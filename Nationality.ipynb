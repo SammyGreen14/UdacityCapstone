{
 "cells": [
  {
   "cell_type": "code",
   "execution_count": 1,
   "metadata": {},
   "outputs": [],
   "source": [
    "#Import needed packages\n",
    "import pandas as pd\n",
    "import matplotlib.pyplot as plt\n",
    "from sklearn.model_selection import train_test_split, GridSearchCV\n",
    "from sklearn import decomposition, datasets, tree\n",
    "from sklearn.feature_extraction.text import CountVectorizer\n",
    "from sklearn.pipeline import Pipeline\n",
    "from sklearn.multioutput import MultiOutputClassifier\n",
    "from sklearn.neighbors import KNeighborsClassifier\n",
    "import numpy as np"
   ]
  },
  {
   "cell_type": "markdown",
   "metadata": {},
   "source": [
    "Data set https://www.kaggle.com/datasets/hemendrasr/name-by-nationality?resource=download"
   ]
  },
  {
   "cell_type": "markdown",
   "metadata": {},
   "source": [
    "## Data Exploration"
   ]
  },
  {
   "cell_type": "code",
   "execution_count": 2,
   "metadata": {},
   "outputs": [],
   "source": [
    "# Read in the data\n",
    "name_nation_data = pd.read_csv('./names-by-nationality.csv')"
   ]
  },
  {
   "cell_type": "code",
   "execution_count": 3,
   "metadata": {},
   "outputs": [
    {
     "data": {
      "text/html": [
       "<div>\n",
       "<style scoped>\n",
       "    .dataframe tbody tr th:only-of-type {\n",
       "        vertical-align: middle;\n",
       "    }\n",
       "\n",
       "    .dataframe tbody tr th {\n",
       "        vertical-align: top;\n",
       "    }\n",
       "\n",
       "    .dataframe thead th {\n",
       "        text-align: right;\n",
       "    }\n",
       "</style>\n",
       "<table border=\"1\" class=\"dataframe\">\n",
       "  <thead>\n",
       "    <tr style=\"text-align: right;\">\n",
       "      <th></th>\n",
       "      <th>name</th>\n",
       "      <th>sex</th>\n",
       "      <th>nationality</th>\n",
       "    </tr>\n",
       "  </thead>\n",
       "  <tbody>\n",
       "    <tr>\n",
       "      <th>0</th>\n",
       "      <td>Aarav</td>\n",
       "      <td>Male</td>\n",
       "      <td>Indian</td>\n",
       "    </tr>\n",
       "    <tr>\n",
       "      <th>1</th>\n",
       "      <td>Aaryan</td>\n",
       "      <td>Male</td>\n",
       "      <td>Indian</td>\n",
       "    </tr>\n",
       "    <tr>\n",
       "      <th>2</th>\n",
       "      <td>Abha</td>\n",
       "      <td>Female</td>\n",
       "      <td>Indian</td>\n",
       "    </tr>\n",
       "    <tr>\n",
       "      <th>3</th>\n",
       "      <td>Abhay</td>\n",
       "      <td>Male</td>\n",
       "      <td>Indian</td>\n",
       "    </tr>\n",
       "    <tr>\n",
       "      <th>4</th>\n",
       "      <td>Abhilash</td>\n",
       "      <td>Male</td>\n",
       "      <td>Indian</td>\n",
       "    </tr>\n",
       "  </tbody>\n",
       "</table>\n",
       "</div>"
      ],
      "text/plain": [
       "       name     sex nationality\n",
       "0     Aarav    Male      Indian\n",
       "1    Aaryan    Male      Indian\n",
       "2      Abha  Female      Indian\n",
       "3     Abhay    Male      Indian\n",
       "4  Abhilash    Male      Indian"
      ]
     },
     "execution_count": 3,
     "metadata": {},
     "output_type": "execute_result"
    }
   ],
   "source": [
    "name_nation_data.head()"
   ]
  },
  {
   "cell_type": "code",
   "execution_count": 4,
   "metadata": {},
   "outputs": [
    {
     "data": {
      "text/plain": [
       "(4695, 3)"
      ]
     },
     "execution_count": 4,
     "metadata": {},
     "output_type": "execute_result"
    }
   ],
   "source": [
    "name_nation_data.shape"
   ]
  },
  {
   "cell_type": "code",
   "execution_count": 5,
   "metadata": {},
   "outputs": [
    {
     "data": {
      "text/html": [
       "<div>\n",
       "<style scoped>\n",
       "    .dataframe tbody tr th:only-of-type {\n",
       "        vertical-align: middle;\n",
       "    }\n",
       "\n",
       "    .dataframe tbody tr th {\n",
       "        vertical-align: top;\n",
       "    }\n",
       "\n",
       "    .dataframe thead th {\n",
       "        text-align: right;\n",
       "    }\n",
       "</style>\n",
       "<table border=\"1\" class=\"dataframe\">\n",
       "  <thead>\n",
       "    <tr style=\"text-align: right;\">\n",
       "      <th></th>\n",
       "      <th>name</th>\n",
       "      <th>sex</th>\n",
       "      <th>nationality</th>\n",
       "    </tr>\n",
       "  </thead>\n",
       "  <tbody>\n",
       "    <tr>\n",
       "      <th>2021</th>\n",
       "      <td>Archie</td>\n",
       "      <td>Male</td>\n",
       "      <td>German</td>\n",
       "    </tr>\n",
       "    <tr>\n",
       "      <th>3092</th>\n",
       "      <td>Brandissa</td>\n",
       "      <td>Female</td>\n",
       "      <td>American</td>\n",
       "    </tr>\n",
       "    <tr>\n",
       "      <th>2337</th>\n",
       "      <td>Aimon</td>\n",
       "      <td>Male</td>\n",
       "      <td>French</td>\n",
       "    </tr>\n",
       "    <tr>\n",
       "      <th>2992</th>\n",
       "      <td>Aniston</td>\n",
       "      <td>Neutral</td>\n",
       "      <td>American</td>\n",
       "    </tr>\n",
       "    <tr>\n",
       "      <th>1564</th>\n",
       "      <td>Chiazam</td>\n",
       "      <td>Male</td>\n",
       "      <td>African</td>\n",
       "    </tr>\n",
       "    <tr>\n",
       "      <th>1420</th>\n",
       "      <td>Yasushi</td>\n",
       "      <td>Male</td>\n",
       "      <td>Japanese</td>\n",
       "    </tr>\n",
       "    <tr>\n",
       "      <th>3013</th>\n",
       "      <td>Arisha</td>\n",
       "      <td>Female</td>\n",
       "      <td>American</td>\n",
       "    </tr>\n",
       "    <tr>\n",
       "      <th>2360</th>\n",
       "      <td>Anatole</td>\n",
       "      <td>Male</td>\n",
       "      <td>French</td>\n",
       "    </tr>\n",
       "    <tr>\n",
       "      <th>4521</th>\n",
       "      <td>Tariana</td>\n",
       "      <td>Female</td>\n",
       "      <td>American</td>\n",
       "    </tr>\n",
       "    <tr>\n",
       "      <th>3035</th>\n",
       "      <td>Audriana</td>\n",
       "      <td>Female</td>\n",
       "      <td>American</td>\n",
       "    </tr>\n",
       "    <tr>\n",
       "      <th>724</th>\n",
       "      <td>Akane</td>\n",
       "      <td>Female</td>\n",
       "      <td>Japanese</td>\n",
       "    </tr>\n",
       "    <tr>\n",
       "      <th>310</th>\n",
       "      <td>Mythri</td>\n",
       "      <td>Female</td>\n",
       "      <td>Indian</td>\n",
       "    </tr>\n",
       "    <tr>\n",
       "      <th>3693</th>\n",
       "      <td>Jerom</td>\n",
       "      <td>Male</td>\n",
       "      <td>American</td>\n",
       "    </tr>\n",
       "    <tr>\n",
       "      <th>700</th>\n",
       "      <td>Vasiliy</td>\n",
       "      <td>Male</td>\n",
       "      <td>Russian</td>\n",
       "    </tr>\n",
       "    <tr>\n",
       "      <th>4621</th>\n",
       "      <td>Tyrek</td>\n",
       "      <td>Male</td>\n",
       "      <td>American</td>\n",
       "    </tr>\n",
       "    <tr>\n",
       "      <th>4148</th>\n",
       "      <td>Myeisha</td>\n",
       "      <td>Female</td>\n",
       "      <td>American</td>\n",
       "    </tr>\n",
       "    <tr>\n",
       "      <th>871</th>\n",
       "      <td>Hayate</td>\n",
       "      <td>Male</td>\n",
       "      <td>Japanese</td>\n",
       "    </tr>\n",
       "    <tr>\n",
       "      <th>654</th>\n",
       "      <td>Milek</td>\n",
       "      <td>Male</td>\n",
       "      <td>Russian</td>\n",
       "    </tr>\n",
       "    <tr>\n",
       "      <th>1846</th>\n",
       "      <td>Owino</td>\n",
       "      <td>Male</td>\n",
       "      <td>African</td>\n",
       "    </tr>\n",
       "    <tr>\n",
       "      <th>4683</th>\n",
       "      <td>Wilona</td>\n",
       "      <td>Female</td>\n",
       "      <td>American</td>\n",
       "    </tr>\n",
       "    <tr>\n",
       "      <th>1910</th>\n",
       "      <td>Tatau</td>\n",
       "      <td>Male</td>\n",
       "      <td>African</td>\n",
       "    </tr>\n",
       "    <tr>\n",
       "      <th>2707</th>\n",
       "      <td>Ludovic</td>\n",
       "      <td>Male</td>\n",
       "      <td>French</td>\n",
       "    </tr>\n",
       "    <tr>\n",
       "      <th>1754</th>\n",
       "      <td>Milandu</td>\n",
       "      <td>Neutral</td>\n",
       "      <td>African</td>\n",
       "    </tr>\n",
       "    <tr>\n",
       "      <th>2262</th>\n",
       "      <td>Odilie</td>\n",
       "      <td>Female</td>\n",
       "      <td>German</td>\n",
       "    </tr>\n",
       "    <tr>\n",
       "      <th>3723</th>\n",
       "      <td>Jonco</td>\n",
       "      <td>Male</td>\n",
       "      <td>American</td>\n",
       "    </tr>\n",
       "  </tbody>\n",
       "</table>\n",
       "</div>"
      ],
      "text/plain": [
       "           name      sex nationality\n",
       "2021     Archie     Male      German\n",
       "3092  Brandissa   Female    American\n",
       "2337      Aimon     Male      French\n",
       "2992    Aniston  Neutral    American\n",
       "1564    Chiazam     Male     African\n",
       "1420    Yasushi     Male    Japanese\n",
       "3013     Arisha   Female    American\n",
       "2360    Anatole     Male      French\n",
       "4521    Tariana   Female    American\n",
       "3035   Audriana   Female    American\n",
       "724       Akane   Female    Japanese\n",
       "310      Mythri   Female      Indian\n",
       "3693      Jerom     Male    American\n",
       "700     Vasiliy     Male     Russian\n",
       "4621      Tyrek     Male    American\n",
       "4148    Myeisha   Female    American\n",
       "871      Hayate     Male    Japanese\n",
       "654       Milek     Male     Russian\n",
       "1846      Owino     Male     African\n",
       "4683     Wilona   Female    American\n",
       "1910      Tatau     Male     African\n",
       "2707    Ludovic     Male      French\n",
       "1754    Milandu  Neutral     African\n",
       "2262     Odilie   Female      German\n",
       "3723      Jonco     Male    American"
      ]
     },
     "execution_count": 5,
     "metadata": {},
     "output_type": "execute_result"
    }
   ],
   "source": [
    "name_nation_data.sample(n=25, random_state=20)"
   ]
  },
  {
   "cell_type": "code",
   "execution_count": 6,
   "metadata": {},
   "outputs": [
    {
     "data": {
      "image/png": "[encoded data removed]",
      "text/plain": [
       "<matplotlib.figure.Figure at 0x7f958f5a4470>"
      ]
     },
     "metadata": {},
     "output_type": "display_data"
    },
    {
     "data": {
      "text/plain": [
       "Female     2573\n",
       "Male       1356\n",
       "Neutral     766\n",
       "Name: sex, dtype: int64"
      ]
     },
     "execution_count": 6,
     "metadata": {},
     "output_type": "execute_result"
    }
   ],
   "source": [
    "#Distribution of the genders\n",
    "(name_nation_data.groupby(['sex']).size().sort_values()).plot(kind='bar', color=['gray','lightblue','lightpink'])\n",
    "plt.show()\n",
    "name_nation_data['sex'].value_counts()"
   ]
  },
  {
   "cell_type": "code",
   "execution_count": 7,
   "metadata": {},
   "outputs": [
    {
     "data": {
      "image/png": "[encoded data removed]",
      "text/plain": [
       "<matplotlib.figure.Figure at 0x7f958f5f9b38>"
      ]
     },
     "metadata": {},
     "output_type": "display_data"
    },
    {
     "data": {
      "text/plain": [
       "American    1782\n",
       "Japanese     757\n",
       "French       584\n",
       "Indian       576\n",
       "African      520\n",
       "German       334\n",
       "Russian      142\n",
       "Name: nationality, dtype: int64"
      ]
     },
     "execution_count": 7,
     "metadata": {},
     "output_type": "execute_result"
    }
   ],
   "source": [
    "# Distribution of the nationalities\n",
    "(name_nation_data.groupby(['nationality']).size().sort_values()).plot(kind='bar', color=['lightcyan','paleturquoise','powderblue', 'skyblue', 'deepskyblue', 'dodgerblue', 'royalblue'])\n",
    "plt.show()\n",
    "name_nation_data['nationality'].value_counts()"
   ]
  },
  {
   "cell_type": "markdown",
   "metadata": {},
   "source": [
    "## Data Processing "
   ]
  },
  {
   "cell_type": "code",
   "execution_count": 60,
   "metadata": {},
   "outputs": [],
   "source": [
    "#Split the dataframe into response and explanatory variables\n",
    "X = name_nation_data[\"name\"].tolist()\n",
    "labels = name_nation_data[\"nationality\"].tolist()"
   ]
  },
  {
   "cell_type": "code",
   "execution_count": 61,
   "metadata": {},
   "outputs": [],
   "source": [
    "def tokenize(names):\n",
    "    '''\n",
    "    This function takes the names as strings. It cleans them and splits them into letters \n",
    "    \n",
    "    Input: names - list of strings to be cleaned and split\n",
    "    \n",
    "    Output: lettered - List of the letters in each name\n",
    "    '''\n",
    "    \n",
    "    lettered = []\n",
    "    for i in names:\n",
    "        lettered.append([x for x in i])\n",
    "        \n",
    "    return lettered"
   ]
  },
  {
   "cell_type": "code",
   "execution_count": 62,
   "metadata": {},
   "outputs": [
    {
     "data": {
      "text/plain": [
       "['Aarav',\n",
       " 'Aaryan',\n",
       " 'Abha',\n",
       " 'Abhay',\n",
       " 'Abhilash',\n",
       " 'Abhilasha',\n",
       " 'Abhinav',\n",
       " 'Adarsh',\n",
       " 'Adit',\n",
       " 'Adita']"
      ]
     },
     "execution_count": 62,
     "metadata": {},
     "output_type": "execute_result"
    }
   ],
   "source": [
    "X[:10]"
   ]
  },
  {
   "cell_type": "code",
   "execution_count": 63,
   "metadata": {},
   "outputs": [
    {
     "data": {
      "text/plain": [
       "[['A', 'a', 'r', 'a', 'v'],\n",
       " ['A', 'a', 'r', 'y', 'a', 'n'],\n",
       " ['A', 'b', 'h', 'a'],\n",
       " ['A', 'b', 'h', 'a', 'y'],\n",
       " ['A', 'b', 'h', 'i', 'l', 'a', 's', 'h'],\n",
       " ['A', 'b', 'h', 'i', 'l', 'a', 's', 'h', 'a'],\n",
       " ['A', 'b', 'h', 'i', 'n', 'a', 'v'],\n",
       " ['A', 'd', 'a', 'r', 's', 'h'],\n",
       " ['A', 'd', 'i', 't'],\n",
       " ['A', 'd', 'i', 't', 'a']]"
      ]
     },
     "execution_count": 63,
     "metadata": {},
     "output_type": "execute_result"
    }
   ],
   "source": [
    "l = tokenize(X)\n",
    "l[:10]"
   ]
  },
  {
   "cell_type": "code",
   "execution_count": 98,
   "metadata": {},
   "outputs": [],
   "source": [
    "allLetters = [item for sublist in l for item in sublist]"
   ]
  },
  {
   "cell_type": "code",
   "execution_count": 99,
   "metadata": {},
   "outputs": [
    {
     "data": {
      "text/plain": [
       "a    4542\n",
       "e    2885\n",
       "i    2712\n",
       "n    2335\n",
       "r    1753\n",
       "l    1549\n",
       "o    1480\n",
       "s    1336\n",
       "t    1158\n",
       "h    1078\n",
       "k     999\n",
       "m     982\n",
       "y     929\n",
       "u     912\n",
       "d     843\n",
       "c     622\n",
       "v     418\n",
       "b     402\n",
       "j     381\n",
       "g     332\n",
       "f     191\n",
       "p     182\n",
       "z     173\n",
       "w     133\n",
       "x      63\n",
       "q      59\n",
       "é      11\n",
       "-       3\n",
       "è       2\n",
       "ç       2\n",
       "ë       1\n",
       "'       1\n",
       "9       1\n",
       "        1\n",
       "î       1\n",
       "dtype: int64"
      ]
     },
     "execution_count": 99,
     "metadata": {},
     "output_type": "execute_result"
    }
   ],
   "source": [
    "# seeing the prevelence of the letters\n",
    "pd.Series(allLetters).value_counts()"
   ]
  },
  {
   "cell_type": "code",
   "execution_count": 64,
   "metadata": {},
   "outputs": [],
   "source": [
    "# initialize count vectorizer object\n",
    "vect = CountVectorizer(tokenizer=tokenize, analyzer = 'char')"
   ]
  },
  {
   "cell_type": "code",
   "execution_count": 65,
   "metadata": {},
   "outputs": [
    {
     "data": {
      "text/plain": [
       "CountVectorizer(analyzer='char', binary=False, decode_error='strict',\n",
       "        dtype=<class 'numpy.int64'>, encoding='utf-8', input='content',\n",
       "        lowercase=True, max_df=1.0, max_features=None, min_df=1,\n",
       "        ngram_range=(1, 1), preprocessor=None, stop_words=None,\n",
       "        strip_accents=None, token_pattern='(?u)\\\\b\\\\w\\\\w+\\\\b',\n",
       "        tokenizer=<function tokenize at 0x7f958d164f28>, vocabulary=None)"
      ]
     },
     "execution_count": 65,
     "metadata": {},
     "output_type": "execute_result"
    }
   ],
   "source": [
    "vect.fit(X)"
   ]
  },
  {
   "cell_type": "code",
   "execution_count": 66,
   "metadata": {},
   "outputs": [
    {
     "data": {
      "text/plain": [
       "{' ': 0,\n",
       " \"'\": 1,\n",
       " '-': 2,\n",
       " '9': 3,\n",
       " 'a': 4,\n",
       " 'b': 5,\n",
       " 'c': 6,\n",
       " 'd': 7,\n",
       " 'e': 8,\n",
       " 'f': 9,\n",
       " 'g': 10,\n",
       " 'h': 11,\n",
       " 'i': 12,\n",
       " 'j': 13,\n",
       " 'k': 14,\n",
       " 'l': 15,\n",
       " 'm': 16,\n",
       " 'n': 17,\n",
       " 'o': 18,\n",
       " 'p': 19,\n",
       " 'q': 20,\n",
       " 'r': 21,\n",
       " 's': 22,\n",
       " 't': 23,\n",
       " 'u': 24,\n",
       " 'v': 25,\n",
       " 'w': 26,\n",
       " 'x': 27,\n",
       " 'y': 28,\n",
       " 'z': 29,\n",
       " 'ç': 30,\n",
       " 'è': 31,\n",
       " 'é': 32,\n",
       " 'ë': 33,\n",
       " 'î': 34}"
      ]
     },
     "execution_count": 66,
     "metadata": {},
     "output_type": "execute_result"
    }
   ],
   "source": [
    "#Checking the letter possibilities\n",
    "vect.vocabulary_"
   ]
  },
  {
   "cell_type": "code",
   "execution_count": 67,
   "metadata": {},
   "outputs": [],
   "source": [
    "letters = list(vect.vocabulary_.keys())"
   ]
  },
  {
   "cell_type": "code",
   "execution_count": 68,
   "metadata": {},
   "outputs": [
    {
     "data": {
      "text/plain": [
       "35"
      ]
     },
     "execution_count": 68,
     "metadata": {},
     "output_type": "execute_result"
    }
   ],
   "source": [
    "len(letters)"
   ]
  },
  {
   "cell_type": "markdown",
   "metadata": {},
   "source": [
    "## Implementation"
   ]
  },
  {
   "cell_type": "markdown",
   "metadata": {},
   "source": [
    "### Nationality Model"
   ]
  },
  {
   "cell_type": "code",
   "execution_count": 69,
   "metadata": {},
   "outputs": [],
   "source": [
    "def build_model():\n",
    "    '''\n",
    "    This function uses a pipeline and gridsearch in order to build a model for the classification of Nationality or gender.\n",
    "    \n",
    "    Input: None needed\n",
    "    \n",
    "    Output: tree_GS - optomized model\n",
    "    '''\n",
    "\n",
    "    #Build pipeline to run count vectorizer as well as k-nearest neighbor algorithm\n",
    "    pipeline = Pipeline([\n",
    "        ('cv', CountVectorizer(tokenizer=tokenize, analyzer = 'char')),\n",
    "        ('clf', KNeighborsClassifier(algorithm = 'brute'))\n",
    "        #('moc', LogisticRegression())\n",
    "    ])\n",
    "    \n",
    "    #Assign values for parameters\n",
    "    dist = [ 'cityblock', 'euclidean']\n",
    "    k = [2,5,20]\n",
    "    \n",
    "    #Set parameters for the grid search\n",
    "    parameters = dict(clf__metric = dist, clf__n_neighbors = k)\n",
    "\n",
    "    #run grid search to optomize the k-nearest neighbor algorithm with different distance formulas and k's\n",
    "    tree_GS = GridSearchCV(pipeline, parameters)\n",
    "    \n",
    "    return tree_GS"
   ]
  },
  {
   "cell_type": "code",
   "execution_count": 70,
   "metadata": {},
   "outputs": [
    {
     "data": {
      "text/plain": [
       "GridSearchCV(cv=None, error_score='raise',\n",
       "       estimator=Pipeline(steps=[('cv', CountVectorizer(analyzer='char', binary=False, decode_error='strict',\n",
       "        dtype=<class 'numpy.int64'>, encoding='utf-8', input='content',\n",
       "        lowercase=True, max_df=1.0, max_features=None, min_df=1,\n",
       "        ngram_range=(1, 1), preprocessor=None, stop_words=None,\n",
       "        strip_a...owski',\n",
       "           metric_params=None, n_jobs=1, n_neighbors=5, p=2,\n",
       "           weights='uniform'))]),\n",
       "       fit_params={}, iid=True, n_jobs=1,\n",
       "       param_grid={'clf__metric': ['cityblock', 'euclidean'], 'clf__n_neighbors': [2, 5, 20]},\n",
       "       pre_dispatch='2*n_jobs', refit=True, return_train_score=True,\n",
       "       scoring=None, verbose=0)"
      ]
     },
     "execution_count": 70,
     "metadata": {},
     "output_type": "execute_result"
    }
   ],
   "source": [
    "#spit the data into test and training set to build and fit the model\n",
    "X_train, X_test, Y_train, Y_test = train_test_split(X, labels, test_size=0.2)\n",
    "model = build_model()\n",
    "model.fit(X_train, Y_train)"
   ]
  },
  {
   "cell_type": "code",
   "execution_count": 71,
   "metadata": {},
   "outputs": [],
   "source": [
    "def evaluate_model(model, X_test, Y_test):\n",
    "    '''\n",
    "    This function evaluates the model created in the previous function to inform us if more tweaking is needed. \n",
    "    \n",
    "    Input: model - Model built in previous function\n",
    "    X_test - Dataframe of the test set for the names\n",
    "    Y_test - Dataframe of the test set for the nationalities or genders\n",
    "\n",
    "    Output: Prints the scoring metrics for each category \n",
    "    y_pred_df - dataframe with the test and prediction for the name and whether it matches\n",
    "    '''\n",
    "    \n",
    "    #print total model score\n",
    "    print(model.score(X_test, Y_test))\n",
    "    #Predict Y values for the X_test set\n",
    "    y_pred = model.predict(X_test)\n",
    "    #Ensure correct data type for classification report\n",
    "    y_pred_df = pd.DataFrame(y_pred, columns = ['predict'])\n",
    "    y_pred_df['test'] = Y_test\n",
    "    y_pred_df['name'] = X_test\n",
    "    y_pred_df['match'] = np.where(y_pred_df['test']== y_pred_df['predict'], True, False)\n",
    "    \n",
    "    return y_pred_df"
   ]
  },
  {
   "cell_type": "code",
   "execution_count": 72,
   "metadata": {},
   "outputs": [
    {
     "name": "stdout",
     "output_type": "stream",
     "text": [
      "0.5324813631522897\n"
     ]
    }
   ],
   "source": [
    "pred_table = evaluate_model(model, X_test, Y_test)"
   ]
  },
  {
   "cell_type": "code",
   "execution_count": 73,
   "metadata": {},
   "outputs": [
    {
     "data": {
      "text/html": [
       "<div>\n",
       "<style scoped>\n",
       "    .dataframe tbody tr th:only-of-type {\n",
       "        vertical-align: middle;\n",
       "    }\n",
       "\n",
       "    .dataframe tbody tr th {\n",
       "        vertical-align: top;\n",
       "    }\n",
       "\n",
       "    .dataframe thead th {\n",
       "        text-align: right;\n",
       "    }\n",
       "</style>\n",
       "<table border=\"1\" class=\"dataframe\">\n",
       "  <thead>\n",
       "    <tr style=\"text-align: right;\">\n",
       "      <th></th>\n",
       "      <th>predict</th>\n",
       "      <th>test</th>\n",
       "      <th>name</th>\n",
       "      <th>match</th>\n",
       "    </tr>\n",
       "  </thead>\n",
       "  <tbody>\n",
       "    <tr>\n",
       "      <th>0</th>\n",
       "      <td>Japanese</td>\n",
       "      <td>Japanese</td>\n",
       "      <td>Etsuko</td>\n",
       "      <td>True</td>\n",
       "    </tr>\n",
       "    <tr>\n",
       "      <th>1</th>\n",
       "      <td>American</td>\n",
       "      <td>French</td>\n",
       "      <td>Naeva</td>\n",
       "      <td>False</td>\n",
       "    </tr>\n",
       "    <tr>\n",
       "      <th>2</th>\n",
       "      <td>Japanese</td>\n",
       "      <td>American</td>\n",
       "      <td>Kristopher</td>\n",
       "      <td>False</td>\n",
       "    </tr>\n",
       "    <tr>\n",
       "      <th>3</th>\n",
       "      <td>American</td>\n",
       "      <td>French</td>\n",
       "      <td>Demi</td>\n",
       "      <td>False</td>\n",
       "    </tr>\n",
       "    <tr>\n",
       "      <th>4</th>\n",
       "      <td>American</td>\n",
       "      <td>American</td>\n",
       "      <td>Deandra</td>\n",
       "      <td>True</td>\n",
       "    </tr>\n",
       "  </tbody>\n",
       "</table>\n",
       "</div>"
      ],
      "text/plain": [
       "    predict      test        name  match\n",
       "0  Japanese  Japanese      Etsuko   True\n",
       "1  American    French       Naeva  False\n",
       "2  Japanese  American  Kristopher  False\n",
       "3  American    French        Demi  False\n",
       "4  American  American     Deandra   True"
      ]
     },
     "execution_count": 73,
     "metadata": {},
     "output_type": "execute_result"
    }
   ],
   "source": [
    "pred_table.head(5)"
   ]
  },
  {
   "cell_type": "code",
   "execution_count": 74,
   "metadata": {},
   "outputs": [
    {
     "data": {
      "image/png": "[encoded data removed]",
      "text/plain": [
       "<matplotlib.figure.Figure at 0x7f958d185ef0>"
      ]
     },
     "metadata": {},
     "output_type": "display_data"
    },
    {
     "data": {
      "text/plain": [
       "True     500\n",
       "False    439\n",
       "Name: match, dtype: int64"
      ]
     },
     "execution_count": 74,
     "metadata": {},
     "output_type": "execute_result"
    }
   ],
   "source": [
    "# Shows the correct prediction compared to the false ones\n",
    "(pred_table.groupby(['match']).size().sort_values()).plot(kind='bar', color=['red', 'green'])\n",
    "plt.show()\n",
    "pred_table['match'].value_counts()"
   ]
  },
  {
   "cell_type": "code",
   "execution_count": 75,
   "metadata": {},
   "outputs": [
    {
     "data": {
      "image/png": "[encoded data removed]",
      "text/plain": [
       "<matplotlib.figure.Figure at 0x7f958d1922b0>"
      ]
     },
     "metadata": {},
     "output_type": "display_data"
    },
    {
     "data": {
      "text/plain": [
       "American    295\n",
       "Japanese    121\n",
       "Indian       48\n",
       "French       21\n",
       "African      13\n",
       "German        2\n",
       "Name: test, dtype: int64"
      ]
     },
     "execution_count": 75,
     "metadata": {},
     "output_type": "execute_result"
    }
   ],
   "source": [
    "# Shows the distribution of correct predictions\n",
    "pred_table_Matched = pred_table.loc[pred_table['match'] == True]\n",
    "(pred_table_Matched.groupby(['test']).size().sort_values()).plot(kind='bar', color=['lightcyan','paleturquoise','powderblue', 'skyblue', 'deepskyblue', 'dodgerblue', 'royalblue'])\n",
    "plt.show()\n",
    "pred_table_Matched['test'].value_counts()"
   ]
  },
  {
   "cell_type": "code",
   "execution_count": 76,
   "metadata": {},
   "outputs": [
    {
     "data": {
      "image/png": "[encoded data removed]",
      "text/plain": [
       "<matplotlib.figure.Figure at 0x7f958cff84a8>"
      ]
     },
     "metadata": {},
     "output_type": "display_data"
    },
    {
     "data": {
      "text/plain": [
       "True     295\n",
       "False     61\n",
       "Name: match, dtype: int64"
      ]
     },
     "execution_count": 76,
     "metadata": {},
     "output_type": "execute_result"
    }
   ],
   "source": [
    "#Closer look at the predicted classifications of the American names\n",
    "pred_table_American = pred_table.loc[pred_table['test'] == 'American']\n",
    "(pred_table_American.groupby(['predict']).size().sort_values()).plot(kind='bar')\n",
    "plt.show()\n",
    "pred_table_American['match'].value_counts()"
   ]
  },
  {
   "cell_type": "code",
   "execution_count": 77,
   "metadata": {},
   "outputs": [
    {
     "data": {
      "image/png": "[encoded data removed]",
      "text/plain": [
       "<matplotlib.figure.Figure at 0x7f958d020cc0>"
      ]
     },
     "metadata": {},
     "output_type": "display_data"
    },
    {
     "data": {
      "text/plain": [
       "False    69\n",
       "True      2\n",
       "Name: match, dtype: int64"
      ]
     },
     "execution_count": 77,
     "metadata": {},
     "output_type": "execute_result"
    }
   ],
   "source": [
    "#Closer look at the predicted classifications of the German names\n",
    "pred_table_German = pred_table.loc[pred_table['test'] == 'German']\n",
    "(pred_table_German.groupby(['predict']).size().sort_values()).plot(kind='bar')\n",
    "plt.show()\n",
    "pred_table_German['match'].value_counts()"
   ]
  },
  {
   "cell_type": "code",
   "execution_count": 78,
   "metadata": {},
   "outputs": [
    {
     "data": {
      "image/png": "[encoded data removed]",
      "text/plain": [
       "<matplotlib.figure.Figure at 0x7f958d21d0f0>"
      ]
     },
     "metadata": {},
     "output_type": "display_data"
    },
    {
     "data": {
      "text/plain": [
       "True     121\n",
       "False     36\n",
       "Name: match, dtype: int64"
      ]
     },
     "execution_count": 78,
     "metadata": {},
     "output_type": "execute_result"
    }
   ],
   "source": [
    "#Closer look at the predicted classifications of the Japanese names\n",
    "pred_table_Japanese = pred_table.loc[pred_table['test'] == 'Japanese']\n",
    "(pred_table_Japanese.groupby(['predict']).size().sort_values()).plot(kind='bar')\n",
    "plt.show()\n",
    "pred_table_Japanese['match'].value_counts()"
   ]
  },
  {
   "cell_type": "code",
   "execution_count": 79,
   "metadata": {},
   "outputs": [
    {
     "data": {
      "image/png": "[encoded data removed]",
      "text/plain": [
       "<matplotlib.figure.Figure at 0x7f958d3de128>"
      ]
     },
     "metadata": {},
     "output_type": "display_data"
    },
    {
     "data": {
      "text/plain": [
       "False    89\n",
       "True     21\n",
       "Name: match, dtype: int64"
      ]
     },
     "execution_count": 79,
     "metadata": {},
     "output_type": "execute_result"
    }
   ],
   "source": [
    "#Closer look at the predicted classifications of the French names\n",
    "pred_table_French = pred_table.loc[pred_table['test'] == 'French']\n",
    "(pred_table_French.groupby(['predict']).size().sort_values()).plot(kind='bar')\n",
    "plt.show()\n",
    "pred_table_French['match'].value_counts()"
   ]
  },
  {
   "cell_type": "code",
   "execution_count": 80,
   "metadata": {},
   "outputs": [
    {
     "data": {
      "image/png": "[encoded data removed]",
      "text/plain": [
       "<matplotlib.figure.Figure at 0x7f958d525b38>"
      ]
     },
     "metadata": {},
     "output_type": "display_data"
    },
    {
     "data": {
      "text/plain": [
       "False    84\n",
       "True     13\n",
       "Name: match, dtype: int64"
      ]
     },
     "execution_count": 80,
     "metadata": {},
     "output_type": "execute_result"
    }
   ],
   "source": [
    "#Closer look at the predicted classifications of the African names\n",
    "pred_table_African = pred_table.loc[pred_table['test'] == 'African']\n",
    "(pred_table_African.groupby(['predict']).size().sort_values()).plot(kind='bar')\n",
    "plt.show()\n",
    "pred_table_African['match'].value_counts()"
   ]
  },
  {
   "cell_type": "code",
   "execution_count": 81,
   "metadata": {},
   "outputs": [
    {
     "data": {
      "image/png": "[encoded data removed]",
      "text/plain": [
       "<matplotlib.figure.Figure at 0x7f958d307ef0>"
      ]
     },
     "metadata": {},
     "output_type": "display_data"
    },
    {
     "data": {
      "text/plain": [
       "False    73\n",
       "True     48\n",
       "Name: match, dtype: int64"
      ]
     },
     "execution_count": 81,
     "metadata": {},
     "output_type": "execute_result"
    }
   ],
   "source": [
    "#Closer look at the predicted classifications of the Indian names\n",
    "pred_table_Indian = pred_table.loc[pred_table['test'] == 'Indian']\n",
    "(pred_table_Indian.groupby(['predict']).size().sort_values()).plot(kind='bar')\n",
    "plt.show()\n",
    "pred_table_Indian['match'].value_counts()"
   ]
  },
  {
   "cell_type": "code",
   "execution_count": 82,
   "metadata": {},
   "outputs": [
    {
     "data": {
      "image/png": "[encoded data removed]",
      "text/plain": [
       "<matplotlib.figure.Figure at 0x7f958d0d8cf8>"
      ]
     },
     "metadata": {},
     "output_type": "display_data"
    },
    {
     "data": {
      "text/plain": [
       "False    27\n",
       "Name: match, dtype: int64"
      ]
     },
     "execution_count": 82,
     "metadata": {},
     "output_type": "execute_result"
    }
   ],
   "source": [
    "#Closer look at the predicted classifications of the Russian names\n",
    "pred_table_Russian = pred_table.loc[pred_table['test'] == 'Russian']\n",
    "(pred_table_Russian.groupby(['predict']).size().sort_values()).plot(kind='bar')\n",
    "plt.show()\n",
    "pred_table_Russian['match'].value_counts()"
   ]
  },
  {
   "cell_type": "markdown",
   "metadata": {},
   "source": [
    "### Gender Model "
   ]
  },
  {
   "cell_type": "code",
   "execution_count": 83,
   "metadata": {},
   "outputs": [],
   "source": [
    "#Split the dataframe into response and explanatory variables\n",
    "X = name_nation_data[\"name\"].tolist()\n",
    "labels = name_nation_data[\"sex\"].tolist()"
   ]
  },
  {
   "cell_type": "code",
   "execution_count": 84,
   "metadata": {},
   "outputs": [
    {
     "data": {
      "text/plain": [
       "GridSearchCV(cv=None, error_score='raise',\n",
       "       estimator=Pipeline(steps=[('cv', CountVectorizer(analyzer='char', binary=False, decode_error='strict',\n",
       "        dtype=<class 'numpy.int64'>, encoding='utf-8', input='content',\n",
       "        lowercase=True, max_df=1.0, max_features=None, min_df=1,\n",
       "        ngram_range=(1, 1), preprocessor=None, stop_words=None,\n",
       "        strip_a...owski',\n",
       "           metric_params=None, n_jobs=1, n_neighbors=5, p=2,\n",
       "           weights='uniform'))]),\n",
       "       fit_params={}, iid=True, n_jobs=1,\n",
       "       param_grid={'clf__metric': ['cityblock', 'euclidean'], 'clf__n_neighbors': [2, 5, 20]},\n",
       "       pre_dispatch='2*n_jobs', refit=True, return_train_score=True,\n",
       "       scoring=None, verbose=0)"
      ]
     },
     "execution_count": 84,
     "metadata": {},
     "output_type": "execute_result"
    }
   ],
   "source": [
    "#Split the data into test and training sets to build and fit the model on \n",
    "X_train, X_test, Y_train, Y_test = train_test_split(X, labels, test_size=0.2)\n",
    "model = build_model()\n",
    "model.fit(X_train, Y_train)"
   ]
  },
  {
   "cell_type": "code",
   "execution_count": 85,
   "metadata": {},
   "outputs": [
    {
     "name": "stdout",
     "output_type": "stream",
     "text": [
      "0.5921192758253461\n"
     ]
    }
   ],
   "source": [
    "#Evaluate the model\n",
    "pred_table_sex = evaluate_model(model, X_test, Y_test)"
   ]
  },
  {
   "cell_type": "code",
   "execution_count": 87,
   "metadata": {},
   "outputs": [
    {
     "data": {
      "image/png": "[encoded data removed]",
      "text/plain": [
       "<matplotlib.figure.Figure at 0x7f958d12cc50>"
      ]
     },
     "metadata": {},
     "output_type": "display_data"
    },
    {
     "data": {
      "text/plain": [
       "True     556\n",
       "False    383\n",
       "Name: match, dtype: int64"
      ]
     },
     "execution_count": 87,
     "metadata": {},
     "output_type": "execute_result"
    }
   ],
   "source": [
    "# Show the distribution of correct and incorrect predictions\n",
    "(pred_table_sex.groupby(['match']).size().sort_values()).plot(kind='bar', color=['red','green'])\n",
    "plt.show()\n",
    "pred_table_sex['match'].value_counts()"
   ]
  },
  {
   "cell_type": "code",
   "execution_count": 88,
   "metadata": {},
   "outputs": [
    {
     "data": {
      "text/plain": [
       "Female     196\n",
       "Male        71\n",
       "Neutral      6\n",
       "Name: predict, dtype: int64"
      ]
     },
     "execution_count": 88,
     "metadata": {},
     "output_type": "execute_result"
    }
   ],
   "source": [
    "#Closer look at the predicted classifications of the male names\n",
    "pred_table_male = pred_table_sex.loc[pred_table_sex['test'] == 'Male']\n",
    "pred_table_male['predict'].value_counts()"
   ]
  },
  {
   "cell_type": "code",
   "execution_count": 89,
   "metadata": {},
   "outputs": [
    {
     "data": {
      "text/plain": [
       "Female     481\n",
       "Male        32\n",
       "Neutral      6\n",
       "Name: predict, dtype: int64"
      ]
     },
     "execution_count": 89,
     "metadata": {},
     "output_type": "execute_result"
    }
   ],
   "source": [
    "#Closer look at the predicted classifications of the female names\n",
    "pred_table_female = pred_table_sex.loc[pred_table_sex['test'] == 'Female']\n",
    "pred_table_female['predict'].value_counts()"
   ]
  },
  {
   "cell_type": "code",
   "execution_count": 90,
   "metadata": {},
   "outputs": [
    {
     "data": {
      "text/plain": [
       "Female     117\n",
       "Male        26\n",
       "Neutral      4\n",
       "Name: predict, dtype: int64"
      ]
     },
     "execution_count": 90,
     "metadata": {},
     "output_type": "execute_result"
    }
   ],
   "source": [
    "#Closer look at the predicted classifications of the gender neutral names \n",
    "pred_table_neutral = pred_table_sex.loc[pred_table_sex['test'] == 'Neutral']\n",
    "pred_table_neutral['predict'].value_counts()"
   ]
  },
  {
   "cell_type": "code",
   "execution_count": null,
   "metadata": {},
   "outputs": [],
   "source": []
  },
  {
   "cell_type": "markdown",
   "metadata": {},
   "source": [
    "Further look at the Japanese names as it performed differently in the model than other nationalities"
   ]
  },
  {
   "cell_type": "code",
   "execution_count": 100,
   "metadata": {},
   "outputs": [],
   "source": [
    "# Keep only Japanese names and create a list of all the letters used\n",
    "name_nation_data_Japanese = name_nation_data.loc[name_nation_data['nationality'] == 'Japanese']\n",
    "JNames = name_nation_data_Japanese[\"name\"].tolist()\n",
    "l = tokenize(JNames)\n",
    "JapaneseLetters = [item for sublist in l for item in sublist]"
   ]
  },
  {
   "cell_type": "code",
   "execution_count": 104,
   "metadata": {},
   "outputs": [
    {
     "data": {
      "text/plain": [
       "i    582\n",
       "a    528\n",
       "o    508\n",
       "k    411\n",
       "u    362\n",
       "s    266\n",
       "h    261\n",
       "m    228\n",
       "y    205\n",
       "r    190\n",
       "t    189\n",
       "e    179\n",
       "n    156\n",
       "c     62\n",
       "z     49\n",
       "d     37\n",
       "j     32\n",
       "f     25\n",
       "g     23\n",
       "b     22\n",
       "w      8\n",
       "p      2\n",
       "l      1\n",
       "'      1\n",
       "dtype: int64"
      ]
     },
     "execution_count": 104,
     "metadata": {},
     "output_type": "execute_result"
    }
   ],
   "source": [
    "#Letters in Japanese names in order of prevelemce\n",
    "pd.Series(JapaneseLetters).value_counts()"
   ]
  },
  {
   "cell_type": "code",
   "execution_count": null,
   "metadata": {},
   "outputs": [],
   "source": []
  },
  {
   "cell_type": "code",
   "execution_count": null,
   "metadata": {},
   "outputs": [],
   "source": []
  },
  {
   "cell_type": "code",
   "execution_count": null,
   "metadata": {},
   "outputs": [],
   "source": []
  }
 ],
 "metadata": {
  "kernelspec": {
   "display_name": "Python 3.4",
   "language": "python",
   "name": "python3"
  },
  "language_info": {
   "codemirror_mode": {
    "name": "ipython",
    "version": 3
   },
   "file_extension": ".py",
   "mimetype": "text/x-python",
   "name": "python",
   "nbconvert_exporter": "python",
   "pygments_lexer": "ipython3",
   "version": "3.4.8"
  }
 },
 "nbformat": 4,
 "nbformat_minor": 2
}
